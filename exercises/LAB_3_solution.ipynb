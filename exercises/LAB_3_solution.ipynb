{
 "cells": [
  {
   "attachments": {},
   "cell_type": "markdown",
   "metadata": {},
   "source": [
    "## 1.1)"
   ]
  },
  {
   "cell_type": "code",
   "execution_count": 2,
   "metadata": {},
   "outputs": [
    {
     "name": "stdout",
     "output_type": "stream",
     "text": [
      "with NLTK:\n",
      "[('The', 'DET'), ('quick', 'ADJ'), ('brown', 'NOUN'), ('fox', 'NOUN')]\n",
      "[('the', 'DET'), ('lazy', 'ADJ'), ('dog', 'NOUN')]\n",
      "With spaCy:\n",
      "[('The', 'DET'), ('quick', 'ADJ'), ('brown', 'ADJ'), ('fox', 'NOUN')]\n",
      "[('the', 'DET'), ('lazy', 'ADJ'), ('dog', 'NOUN')]\n"
     ]
    }
   ],
   "source": [
    "s = \"The quick brown fox jumps over the lazy dog\"\n",
    "\n",
    "print(\"with NLTK:\")\n",
    "from nltk import word_tokenize, pos_tag\n",
    "from nltk import RegexpParser\n",
    "\n",
    "tokens = word_tokenize(s)\n",
    "pos_tags = pos_tag(tokens, tagset='universal')\n",
    "NP_grammar = \"\"\"\n",
    "    NP: {<DET>?<ADJ>*<NOUN>+}\n",
    "\"\"\"\n",
    "chunker = RegexpParser(NP_grammar)\n",
    "for subtree in chunker.parse(pos_tags).subtrees():\n",
    "    if subtree.label() == \"NP\":\n",
    "        print(subtree.leaves())\n",
    "\n",
    "print(\"With spaCy:\")\n",
    "import spacy\n",
    "from spacy.matcher import Matcher\n",
    "nlp = spacy.load(\"en_core_web_sm\")\n",
    "doc = nlp(s)\n",
    "for np in doc.noun_chunks:  # <-- this is automatically parsed in the model\n",
    "    print([(token.text, token.pos_) for token in np])"
   ]
  },
  {
   "attachments": {},
   "cell_type": "markdown",
   "metadata": {},
   "source": [
    "## 1.2)"
   ]
  },
  {
   "cell_type": "code",
   "execution_count": 3,
   "metadata": {},
   "outputs": [
    {
     "name": "stdout",
     "output_type": "stream",
     "text": [
      "Verb-phrase matching\n",
      "With NLTK:\n",
      "[('The', 'DET'), ('quick', 'ADJ'), ('brown', 'NOUN'), ('fox', 'NOUN')]\n",
      "[('the', 'DET'), ('lazy', 'ADJ'), ('dog', 'NOUN')]\n",
      "With spaCy Matcher:\n",
      "[('The', 'DET'), ('quick', 'ADJ'), ('brown', 'ADJ'), ('fox', 'NOUN')]\n",
      "[('the', 'DET'), ('lazy', 'ADJ'), ('dog', 'NOUN')]\n"
     ]
    }
   ],
   "source": [
    "print(\"Verb-phrase matching\")\n",
    "print(\"With NLTK:\")\n",
    "grammar = \"\"\"\n",
    "    VP: {<VERB><DET>?<ADJ>?<NOUN>+}\n",
    "    NP: {<DET>?<ADJ>*<NOUN>+}\n",
    "\"\"\"\n",
    "chunker = RegexpParser(NP_grammar)\n",
    "for subtree in chunker.parse(pos_tags).subtrees():\n",
    "    if subtree.label() == \"NP\":\n",
    "        print(subtree.leaves())\n",
    "\n",
    "print(\"With spaCy Matcher:\")\n",
    "vp = [\n",
    "    {'POS': 'VERB', 'OP': '+'},\n",
    "    {'POS': 'DET', 'OP': '?'},\n",
    "    {'POS': 'ADJ', 'OP': '*'},\n",
    "    {'POS': 'NOUN', 'OP': '+'}\n",
    "]\n",
    "np = [\n",
    "    {'POS': 'DET', 'OP': '{1}'},\n",
    "    {'POS': 'ADJ', 'OP': '*'},\n",
    "    {'POS': 'NOUN', 'OP': '+'}\n",
    "]\n",
    "matcher = Matcher(nlp.vocab)\n",
    "matcher.add(\"verb_phrase\", [vp])\n",
    "matcher.add(\"noun_phrase\", [np])\n",
    "\n",
    "def get_chunks(doc):\n",
    "    matches = matcher(doc)\n",
    "    for match_id, start, end in matches:\n",
    "        span = doc[start:end]\n",
    "        match_type = nlp.vocab.strings[match_id]\n",
    "        print([(token.text, token.pos_) for token in span])\n",
    "get_chunks(doc)"
   ]
  },
  {
   "attachments": {},
   "cell_type": "markdown",
   "metadata": {},
   "source": [
    "## 1.3)\n",
    "Chunking (either VPs, NPs or custom chunks) could be useful in the sense that they often predict a singular concept, so we could perhaps suggest a prediction of the entire NP or VP given an input. This, like any other prediction tasks, has its limits and edge-cases. "
   ]
  },
  {
   "attachments": {},
   "cell_type": "markdown",
   "metadata": {},
   "source": [
    "## 2)"
   ]
  },
  {
   "cell_type": "code",
   "execution_count": 4,
   "metadata": {},
   "outputs": [
    {
     "data": {
      "text/html": [
       "<span class=\"tex2jax_ignore\"><svg xmlns=\"http://www.w3.org/2000/svg\" xmlns:xlink=\"http://www.w3.org/1999/xlink\" xml:lang=\"en\" id=\"e4cc5ba313b54372af7d7aa180652f56-0\" class=\"displacy\" width=\"950\" height=\"287.0\" direction=\"ltr\" style=\"max-width: none; height: 287.0px; color: #000000; background: #ffffff; font-family: Arial; direction: ltr\">\n",
       "<text class=\"displacy-token\" fill=\"currentColor\" text-anchor=\"middle\" y=\"197.0\">\n",
       "    <tspan class=\"displacy-word\" fill=\"currentColor\" x=\"50\">The</tspan>\n",
       "    <tspan class=\"displacy-tag\" dy=\"2em\" fill=\"currentColor\" x=\"50\">DET</tspan>\n",
       "</text>\n",
       "\n",
       "<text class=\"displacy-token\" fill=\"currentColor\" text-anchor=\"middle\" y=\"197.0\">\n",
       "    <tspan class=\"displacy-word\" fill=\"currentColor\" x=\"150\">quick</tspan>\n",
       "    <tspan class=\"displacy-tag\" dy=\"2em\" fill=\"currentColor\" x=\"150\">ADJ</tspan>\n",
       "</text>\n",
       "\n",
       "<text class=\"displacy-token\" fill=\"currentColor\" text-anchor=\"middle\" y=\"197.0\">\n",
       "    <tspan class=\"displacy-word\" fill=\"currentColor\" x=\"250\">brown</tspan>\n",
       "    <tspan class=\"displacy-tag\" dy=\"2em\" fill=\"currentColor\" x=\"250\">ADJ</tspan>\n",
       "</text>\n",
       "\n",
       "<text class=\"displacy-token\" fill=\"currentColor\" text-anchor=\"middle\" y=\"197.0\">\n",
       "    <tspan class=\"displacy-word\" fill=\"currentColor\" x=\"350\">fox</tspan>\n",
       "    <tspan class=\"displacy-tag\" dy=\"2em\" fill=\"currentColor\" x=\"350\">NOUN</tspan>\n",
       "</text>\n",
       "\n",
       "<text class=\"displacy-token\" fill=\"currentColor\" text-anchor=\"middle\" y=\"197.0\">\n",
       "    <tspan class=\"displacy-word\" fill=\"currentColor\" x=\"450\">jumps</tspan>\n",
       "    <tspan class=\"displacy-tag\" dy=\"2em\" fill=\"currentColor\" x=\"450\">VERB</tspan>\n",
       "</text>\n",
       "\n",
       "<text class=\"displacy-token\" fill=\"currentColor\" text-anchor=\"middle\" y=\"197.0\">\n",
       "    <tspan class=\"displacy-word\" fill=\"currentColor\" x=\"550\">over</tspan>\n",
       "    <tspan class=\"displacy-tag\" dy=\"2em\" fill=\"currentColor\" x=\"550\">ADP</tspan>\n",
       "</text>\n",
       "\n",
       "<text class=\"displacy-token\" fill=\"currentColor\" text-anchor=\"middle\" y=\"197.0\">\n",
       "    <tspan class=\"displacy-word\" fill=\"currentColor\" x=\"650\">the</tspan>\n",
       "    <tspan class=\"displacy-tag\" dy=\"2em\" fill=\"currentColor\" x=\"650\">DET</tspan>\n",
       "</text>\n",
       "\n",
       "<text class=\"displacy-token\" fill=\"currentColor\" text-anchor=\"middle\" y=\"197.0\">\n",
       "    <tspan class=\"displacy-word\" fill=\"currentColor\" x=\"750\">lazy</tspan>\n",
       "    <tspan class=\"displacy-tag\" dy=\"2em\" fill=\"currentColor\" x=\"750\">ADJ</tspan>\n",
       "</text>\n",
       "\n",
       "<text class=\"displacy-token\" fill=\"currentColor\" text-anchor=\"middle\" y=\"197.0\">\n",
       "    <tspan class=\"displacy-word\" fill=\"currentColor\" x=\"850\">dog</tspan>\n",
       "    <tspan class=\"displacy-tag\" dy=\"2em\" fill=\"currentColor\" x=\"850\">NOUN</tspan>\n",
       "</text>\n",
       "\n",
       "<g class=\"displacy-arrow\">\n",
       "    <path class=\"displacy-arc\" id=\"arrow-e4cc5ba313b54372af7d7aa180652f56-0-0\" stroke-width=\"2px\" d=\"M62,152.0 62,102.0 350.0,102.0 350.0,152.0\" fill=\"none\" stroke=\"currentColor\"/>\n",
       "    <text dy=\"1.25em\" style=\"font-size: 0.8em; letter-spacing: 1px\">\n",
       "        <textPath xlink:href=\"#arrow-e4cc5ba313b54372af7d7aa180652f56-0-0\" class=\"displacy-label\" startOffset=\"50%\" side=\"left\" fill=\"currentColor\" text-anchor=\"middle\">det</textPath>\n",
       "    </text>\n",
       "    <path class=\"displacy-arrowhead\" d=\"M62,154.0 L58,146.0 66,146.0\" fill=\"currentColor\"/>\n",
       "</g>\n",
       "\n",
       "<g class=\"displacy-arrow\">\n",
       "    <path class=\"displacy-arc\" id=\"arrow-e4cc5ba313b54372af7d7aa180652f56-0-1\" stroke-width=\"2px\" d=\"M162,152.0 162,118.66666666666666 347.0,118.66666666666666 347.0,152.0\" fill=\"none\" stroke=\"currentColor\"/>\n",
       "    <text dy=\"1.25em\" style=\"font-size: 0.8em; letter-spacing: 1px\">\n",
       "        <textPath xlink:href=\"#arrow-e4cc5ba313b54372af7d7aa180652f56-0-1\" class=\"displacy-label\" startOffset=\"50%\" side=\"left\" fill=\"currentColor\" text-anchor=\"middle\">amod</textPath>\n",
       "    </text>\n",
       "    <path class=\"displacy-arrowhead\" d=\"M162,154.0 L158,146.0 166,146.0\" fill=\"currentColor\"/>\n",
       "</g>\n",
       "\n",
       "<g class=\"displacy-arrow\">\n",
       "    <path class=\"displacy-arc\" id=\"arrow-e4cc5ba313b54372af7d7aa180652f56-0-2\" stroke-width=\"2px\" d=\"M262,152.0 262,135.33333333333334 344.0,135.33333333333334 344.0,152.0\" fill=\"none\" stroke=\"currentColor\"/>\n",
       "    <text dy=\"1.25em\" style=\"font-size: 0.8em; letter-spacing: 1px\">\n",
       "        <textPath xlink:href=\"#arrow-e4cc5ba313b54372af7d7aa180652f56-0-2\" class=\"displacy-label\" startOffset=\"50%\" side=\"left\" fill=\"currentColor\" text-anchor=\"middle\">amod</textPath>\n",
       "    </text>\n",
       "    <path class=\"displacy-arrowhead\" d=\"M262,154.0 L258,146.0 266,146.0\" fill=\"currentColor\"/>\n",
       "</g>\n",
       "\n",
       "<g class=\"displacy-arrow\">\n",
       "    <path class=\"displacy-arc\" id=\"arrow-e4cc5ba313b54372af7d7aa180652f56-0-3\" stroke-width=\"2px\" d=\"M362,152.0 362,135.33333333333334 444.0,135.33333333333334 444.0,152.0\" fill=\"none\" stroke=\"currentColor\"/>\n",
       "    <text dy=\"1.25em\" style=\"font-size: 0.8em; letter-spacing: 1px\">\n",
       "        <textPath xlink:href=\"#arrow-e4cc5ba313b54372af7d7aa180652f56-0-3\" class=\"displacy-label\" startOffset=\"50%\" side=\"left\" fill=\"currentColor\" text-anchor=\"middle\">nsubj</textPath>\n",
       "    </text>\n",
       "    <path class=\"displacy-arrowhead\" d=\"M362,154.0 L358,146.0 366,146.0\" fill=\"currentColor\"/>\n",
       "</g>\n",
       "\n",
       "<g class=\"displacy-arrow\">\n",
       "    <path class=\"displacy-arc\" id=\"arrow-e4cc5ba313b54372af7d7aa180652f56-0-4\" stroke-width=\"2px\" d=\"M462,152.0 462,135.33333333333334 544.0,135.33333333333334 544.0,152.0\" fill=\"none\" stroke=\"currentColor\"/>\n",
       "    <text dy=\"1.25em\" style=\"font-size: 0.8em; letter-spacing: 1px\">\n",
       "        <textPath xlink:href=\"#arrow-e4cc5ba313b54372af7d7aa180652f56-0-4\" class=\"displacy-label\" startOffset=\"50%\" side=\"left\" fill=\"currentColor\" text-anchor=\"middle\">prep</textPath>\n",
       "    </text>\n",
       "    <path class=\"displacy-arrowhead\" d=\"M544.0,154.0 L548.0,146.0 540.0,146.0\" fill=\"currentColor\"/>\n",
       "</g>\n",
       "\n",
       "<g class=\"displacy-arrow\">\n",
       "    <path class=\"displacy-arc\" id=\"arrow-e4cc5ba313b54372af7d7aa180652f56-0-5\" stroke-width=\"2px\" d=\"M662,152.0 662,118.66666666666666 847.0,118.66666666666666 847.0,152.0\" fill=\"none\" stroke=\"currentColor\"/>\n",
       "    <text dy=\"1.25em\" style=\"font-size: 0.8em; letter-spacing: 1px\">\n",
       "        <textPath xlink:href=\"#arrow-e4cc5ba313b54372af7d7aa180652f56-0-5\" class=\"displacy-label\" startOffset=\"50%\" side=\"left\" fill=\"currentColor\" text-anchor=\"middle\">det</textPath>\n",
       "    </text>\n",
       "    <path class=\"displacy-arrowhead\" d=\"M662,154.0 L658,146.0 666,146.0\" fill=\"currentColor\"/>\n",
       "</g>\n",
       "\n",
       "<g class=\"displacy-arrow\">\n",
       "    <path class=\"displacy-arc\" id=\"arrow-e4cc5ba313b54372af7d7aa180652f56-0-6\" stroke-width=\"2px\" d=\"M762,152.0 762,135.33333333333334 844.0,135.33333333333334 844.0,152.0\" fill=\"none\" stroke=\"currentColor\"/>\n",
       "    <text dy=\"1.25em\" style=\"font-size: 0.8em; letter-spacing: 1px\">\n",
       "        <textPath xlink:href=\"#arrow-e4cc5ba313b54372af7d7aa180652f56-0-6\" class=\"displacy-label\" startOffset=\"50%\" side=\"left\" fill=\"currentColor\" text-anchor=\"middle\">amod</textPath>\n",
       "    </text>\n",
       "    <path class=\"displacy-arrowhead\" d=\"M762,154.0 L758,146.0 766,146.0\" fill=\"currentColor\"/>\n",
       "</g>\n",
       "\n",
       "<g class=\"displacy-arrow\">\n",
       "    <path class=\"displacy-arc\" id=\"arrow-e4cc5ba313b54372af7d7aa180652f56-0-7\" stroke-width=\"2px\" d=\"M562,152.0 562,102.0 850.0,102.0 850.0,152.0\" fill=\"none\" stroke=\"currentColor\"/>\n",
       "    <text dy=\"1.25em\" style=\"font-size: 0.8em; letter-spacing: 1px\">\n",
       "        <textPath xlink:href=\"#arrow-e4cc5ba313b54372af7d7aa180652f56-0-7\" class=\"displacy-label\" startOffset=\"50%\" side=\"left\" fill=\"currentColor\" text-anchor=\"middle\">pobj</textPath>\n",
       "    </text>\n",
       "    <path class=\"displacy-arrowhead\" d=\"M850.0,154.0 L854.0,146.0 846.0,146.0\" fill=\"currentColor\"/>\n",
       "</g>\n",
       "</svg></span>"
      ],
      "text/plain": [
       "<IPython.core.display.HTML object>"
      ]
     },
     "metadata": {},
     "output_type": "display_data"
    }
   ],
   "source": [
    "doc = nlp(\"The quick brown fox jumps over the lazy dog\")\n",
    "from spacy import displacy\n",
    "displacy.render(doc, style=\"dep\", jupyter=True, options={\"distance\": 100, \"compact\": True})\n"
   ]
  },
  {
   "cell_type": "code",
   "execution_count": 5,
   "metadata": {},
   "outputs": [
    {
     "name": "stdout",
     "output_type": "stream",
     "text": [
      "([The, quick, brown]) fox <- jumps\n",
      "([dog]) over <- jumps\n",
      "([the, lazy]) dog <- over\n"
     ]
    }
   ],
   "source": [
    "def visualize_deps(doc):\n",
    "    for token in doc:\n",
    "        children = [child for child in token.children]\n",
    "        if len(children) == 0 or token.text == token.head.text:\n",
    "            continue\n",
    "        print(f\"({children}) {token.text} <- {token.head.text}\")\n",
    "\n",
    "visualize_deps(doc)"
   ]
  },
  {
   "cell_type": "code",
   "execution_count": 6,
   "metadata": {},
   "outputs": [
    {
     "data": {
      "image/png": "[encoded data removed]",
      "text/plain": [
       "<Figure size 640x480 with 1 Axes>"
      ]
     },
     "metadata": {},
     "output_type": "display_data"
    }
   ],
   "source": [
    "import networkx as nx\n",
    "import matplotlib.pyplot as plt\n",
    "\n",
    "def visualize_deps_nx(doc):\n",
    "    G = nx.Graph()\n",
    "    for token in doc:\n",
    "        children = [child for child in token.children]\n",
    "        for child in children:\n",
    "            G.add_edge(token.text, child.text)\n",
    "    nx.draw(G, with_labels=True, node_color='lightblue', node_size=1500, alpha=1)\n",
    "    plt.show()\n",
    "\n",
    "visualize_deps_nx(doc)"
   ]
  },
  {
   "attachments": {},
   "cell_type": "markdown",
   "metadata": {},
   "source": [
    "## 2.1)"
   ]
  },
  {
   "cell_type": "code",
   "execution_count": 7,
   "metadata": {},
   "outputs": [
    {
     "name": "stdout",
     "output_type": "stream",
     "text": [
      "The root is: jumps (VERB)\n"
     ]
    }
   ],
   "source": [
    "# find root:\n",
    "def get_root(doc):\n",
    "    for token in doc:\n",
    "        if token.head == token:\n",
    "            return token\n",
    "    return None\n",
    "doc = nlp(\"The quick brown fox jumps over the lazy dog\")\n",
    "root = get_root(doc)\n",
    "print(f\"The root is: {root.text} ({root.pos_})\")"
   ]
  },
  {
   "attachments": {},
   "cell_type": "markdown",
   "metadata": {},
   "source": [
    "## 2.2)"
   ]
  },
  {
   "cell_type": "code",
   "execution_count": 8,
   "metadata": {},
   "outputs": [
    {
     "name": "stdout",
     "output_type": "stream",
     "text": [
      "Subjects: ['fox']\n",
      "Objects: ['dog']\n"
     ]
    }
   ],
   "source": [
    "def get_subject_object(doc):\n",
    "    subjects = [t for t in doc if \"subj\" in t.dep_]\n",
    "    objects = [t for t in doc if \"obj\" in t.dep_]\n",
    "    return subjects, objects\n",
    "subjects, objects = get_subject_object(doc)\n",
    "print(f\"Subjects: {[t.text for t in subjects]}\")\n",
    "print(f\"Objects: {[t.text for t in objects]}\")"
   ]
  },
  {
   "attachments": {},
   "cell_type": "markdown",
   "metadata": {},
   "source": [
    "## 2.3)\n",
    "The relationships we can detect using the structure found by dependency parsing can be used in various ways. One example is to apply knowledge of common structures in a langauge to verify that the next prediction would, in fact, be valid. For english, we have the typical subject-verb-object.\n"
   ]
  },
  {
   "attachments": {},
   "cell_type": "markdown",
   "metadata": {},
   "source": [
    "## 3.1)"
   ]
  },
  {
   "cell_type": "code",
   "execution_count": 9,
   "metadata": {},
   "outputs": [
    {
     "data": {
      "text/plain": [
       "['coder', 'computer_programmer', 'programmer', 'software_engineer']"
      ]
     },
     "execution_count": 9,
     "metadata": {},
     "output_type": "execute_result"
    }
   ],
   "source": [
    "from nltk.corpus import wordnet as wn\n",
    "def get_synonyms(word):\n",
    "    synonyms = []\n",
    "    for synset in wn.synsets(word):\n",
    "        synonyms.extend(synset.lemma_names())\n",
    "    return sorted(list(set(synonyms)))\n",
    "\n",
    "get_synonyms(\"programmer\")"
   ]
  },
  {
   "attachments": {},
   "cell_type": "markdown",
   "metadata": {},
   "source": [
    "## 3.2)"
   ]
  },
  {
   "cell_type": "code",
   "execution_count": 10,
   "metadata": {},
   "outputs": [
    {
     "data": {
      "text/plain": [
       "{'lemma_names': {'computer_programing',\n",
       "  'computer_programming',\n",
       "  'program',\n",
       "  'programing',\n",
       "  'programme',\n",
       "  'programming',\n",
       "  'scheduling'},\n",
       " 'definition': {'arrange a program of or for',\n",
       "  'creating a sequence of instructions to enable the computer to do something',\n",
       "  'setting an order and time for planned events',\n",
       "  'write a computer program'},\n",
       " 'hypernyms': {Synset('create_by_mental_act.v.01'),\n",
       "  Synset('creating_by_mental_acts.n.01'),\n",
       "  Synset('planning.n.01'),\n",
       "  Synset('schedule.v.02')},\n",
       " 'hyponyms': {Synset('hack.v.06'),\n",
       "  Synset('logic_programming.n.02'),\n",
       "  Synset('object-oriented_programming.n.01')}}"
      ]
     },
     "execution_count": 10,
     "metadata": {},
     "output_type": "execute_result"
    }
   ],
   "source": [
    "from collections import defaultdict\n",
    "# get more features\n",
    "def get_wordnet_features(word):\n",
    "    # extract all possible features from wordnet:\n",
    "    features = defaultdict(list)\n",
    "    for synset in wn.synsets(word):\n",
    "        features[\"lemma_names\"].extend(synset.lemma_names())\n",
    "        features[\"definition\"].append(synset.definition())\n",
    "        features[\"hypernyms\"].extend(synset.hypernyms())\n",
    "        features[\"hyponyms\"].extend(synset.hyponyms())\n",
    "    return {k: set(v) for k, v in features.items()}\n",
    "\n",
    "get_wordnet_features(\"programming\")"
   ]
  },
  {
   "attachments": {},
   "cell_type": "markdown",
   "metadata": {},
   "source": [
    "## 3.3) Sentiwordnet"
   ]
  },
  {
   "cell_type": "code",
   "execution_count": 11,
   "metadata": {},
   "outputs": [
    {
     "name": "stdout",
     "output_type": "stream",
     "text": [
      "Well, I don't hate it, but it's not the greatest!\n",
      "-> Neutral (0.0)\n",
      "\n",
      "It's not bad, but it's not great either.\n",
      "-> Neutral (-0.0621)\n",
      "\n",
      "It's terrible\n",
      "-> Negative (-0.1389)\n",
      "\n",
      "While I can't say I loved it, I can see why some people would.\n",
      "-> Positive (0.1168)\n",
      "\n",
      "I don't care if you loved it - it was terrible!\n",
      "-> Neutral (-0.0207)\n",
      "\n",
      "I don't care if you hated it, I think it was awesome\n",
      "-> Positive (0.1654)\n",
      "\n"
     ]
    }
   ],
   "source": [
    "from nltk.corpus import sentiwordnet as swn\n",
    "from nltk import word_tokenize\n",
    "import spacy\n",
    "nlp = spacy.load(\"en_core_web_sm\")\n",
    "\n",
    "all_wordnet_pos_tags = [\"n\", \"v\", \"a\", \"r\"]\n",
    "# n: noun, v: verb, a: adjective, r: adverb\n",
    "# universal-style:\n",
    "# NOUN, VERB, ADJ, ADV\n",
    "universal_to_wn = {\"NOUN\": \"n\", \"VERB\": \"v\", \"ADJ\": \"a\", \"ADV\": \"r\"}\n",
    "    \n",
    "\n",
    "def get_sentiment(word, pos=None):\n",
    "    if pos not in universal_to_wn.keys():\n",
    "        return 0\n",
    "    sentiment = 0\n",
    "    if len(wn.synsets(word)) == 0:\n",
    "        return sentiment # neutral\n",
    "    for synset in wn.synsets(word, pos=universal_to_wn[pos]):\n",
    "        ssyn = swn.senti_synset(synset.name())\n",
    "        tmp_sent = ssyn.pos_score() - ssyn.neg_score()\n",
    "        sentiment += tmp_sent\n",
    "\n",
    "    avg_word_score = sentiment / len(wn.synsets(word))  # average score of all synsets\n",
    "    scaling_factor = 2\n",
    "    return avg_word_score * scaling_factor\n",
    "\n",
    "def get_sentiment_from_sent(sent):\n",
    "    doc = nlp(sent)\n",
    "    # tokens = [token.text for token in doc]\n",
    "    tagged = [(token.text, token.pos_) for token in doc if token.is_alpha]\n",
    "    sentiment = sum([get_sentiment(word, tag) for (word, tag) in tagged])\n",
    "    # do some smoothing, so the length doesn't matter\n",
    "    # only base this on actual words, such that !!!! doesn't count as 4 extra tokens\n",
    "    num_words = [w for w in tokens if w.isalpha()]\n",
    "    # only count unique words\n",
    "    num_words = set(num_words)\n",
    "    if len(num_words) > 0:\n",
    "        return sentiment / len(num_words)\n",
    "    return sentiment\n",
    "\n",
    "def readable_sentiment_output(sent, threshold=0.1):\n",
    "    # experiment with threshold parameter\n",
    "    sentiment = get_sentiment_from_sent(sent)\n",
    "    readable = \"Neutral\"\n",
    "    if sentiment < -threshold:\n",
    "        readable = \"Negative\"\n",
    "    elif sentiment > threshold:\n",
    "        readable = \"Positive\"\n",
    "    return f\"{sent}\\n-> {readable} ({round(sentiment, 4)})\\n\"\n",
    "\n",
    "some_sents = [\n",
    "    \"Well, I don't hate it, but it's not the greatest!\",\n",
    "    \"It's not bad, but it's not great either.\",\n",
    "    \"It's terrible\",\n",
    "    \"While I can't say I loved it, I can see why some people would.\",\n",
    "    \"I don't care if you loved it - it was terrible!\",\n",
    "    \"I don't care if you hated it, I think it was awesome\"\n",
    "]\n",
    "for s in some_sents:\n",
    "    print(readable_sentiment_output(s))\n"
   ]
  },
  {
   "attachments": {},
   "cell_type": "markdown",
   "metadata": {},
   "source": [
    "# 4. Building a sentiment analysis model"
   ]
  },
  {
   "cell_type": "code",
   "execution_count": 12,
   "metadata": {},
   "outputs": [],
   "source": [
    "from nltk.corpus import stopwords\n",
    "from nltk.corpus import twitter_samples\n",
    "import spacy\n",
    "import re\n",
    "\n",
    "STOP = stopwords.words(\"english\")\n",
    "\n",
    "twitter_words_to_filter = [\"rt\"]\n",
    "def filter_single_letter(word):\n",
    "    return len(word) > 1 or word == 'a' or word == 'i'\n",
    "\n",
    "def twitter_preprocessing(tokenized_post):\n",
    "    # tokenized_post = [w for w in tokenized_post if w not in STOP]\n",
    "    # ignore numbers, mentions, links etc.\n",
    "    pattern = re.compile(r\"^[a-zA-Z\\!\\?\\,\\.\\']+$\")\n",
    "    dot_pattern = re.compile(r\"\\.{2,}\")\n",
    "    tokens = [\n",
    "        w.lower() for w in tokenized_post\n",
    "        if pattern.match(w) and not dot_pattern.match(w)\n",
    "        and w.lower() not in twitter_words_to_filter\n",
    "        and filter_single_letter(w)\n",
    "    ]\n",
    "    return tokens\n",
    "\n",
    "def get_tweets(positive=True):\n",
    "    source = \"positive_tweets.json\" if positive else \"negative_tweets.json\"\n",
    "    tokenized = twitter_samples.tokenized(source)\n",
    "    return [\" \".join(twitter_preprocessing(tweet)) for tweet in tokenized\n",
    "            if len(tweet) > 3]  \n",
    "\n",
    "positive_tweets = get_tweets(positive=True)\n",
    "negative_tweets = get_tweets(positive=False)"
   ]
  },
  {
   "cell_type": "code",
   "execution_count": 13,
   "metadata": {},
   "outputs": [],
   "source": [
    "data = positive_tweets + negative_tweets\n",
    "labels = [1] * len(positive_tweets) + [0] * len(negative_tweets)"
   ]
  },
  {
   "cell_type": "code",
   "execution_count": 14,
   "metadata": {},
   "outputs": [],
   "source": [
    "import pandas as pd\n",
    "df = pd.DataFrame({\"tweet\": data, \"label\": labels})\n",
    "df.to_csv(\"data/lab3_twitter_all.csv\", index=False)"
   ]
  },
  {
   "cell_type": "code",
   "execution_count": 77,
   "metadata": {},
   "outputs": [],
   "source": [
    "from sklearn.model_selection import train_test_split\n",
    "\n",
    "def stratified_split(data, labels, test_size=0.2):\n",
    "    return train_test_split(data, labels, test_size=test_size, stratify=labels)\n",
    "X_train, X_test, y_train, y_test = stratified_split(data, labels)"
   ]
  },
  {
   "cell_type": "code",
   "execution_count": 78,
   "metadata": {},
   "outputs": [],
   "source": [
    "train_df = pd.DataFrame({\"tweet\": X_train, \"label\": y_train})\n",
    "test_df = pd.DataFrame({\"tweet\": X_test, \"label\": y_test})\n",
    "\n",
    "train_df.to_csv(\"data/lab3_twitter_train.csv\", index=False)\n",
    "test_df.to_csv(\"data/lab3_twitter_test.csv\", index=False)"
   ]
  },
  {
   "cell_type": "code",
   "execution_count": 79,
   "metadata": {},
   "outputs": [
    {
     "name": "stdout",
     "output_type": "stream",
     "text": [
      "              precision    recall  f1-score   support\n",
      "\n",
      "           0       0.61      0.57      0.59       958\n",
      "           1       0.60      0.65      0.62       970\n",
      "\n",
      "    accuracy                           0.61      1928\n",
      "   macro avg       0.61      0.61      0.61      1928\n",
      "weighted avg       0.61      0.61      0.61      1928\n",
      "\n"
     ]
    }
   ],
   "source": [
    "from sklearn.metrics import classification_report\n",
    "\n",
    "# use the get_sentiment_from_sent function from above\n",
    "preds = []\n",
    "for sent in X_test:\n",
    "    sentiment = get_sentiment_from_sent(sent)\n",
    "    if sentiment > 0:\n",
    "        preds.append(1)\n",
    "    else:\n",
    "        preds.append(0)\n",
    "print(classification_report(y_test, preds))"
   ]
  },
  {
   "cell_type": "code",
   "execution_count": 80,
   "metadata": {},
   "outputs": [
    {
     "name": "stdout",
     "output_type": "stream",
     "text": [
      "              precision    recall  f1-score   support\n",
      "\n",
      "           0       0.76      0.77      0.76       958\n",
      "           1       0.77      0.75      0.76       970\n",
      "\n",
      "    accuracy                           0.76      1928\n",
      "   macro avg       0.76      0.76      0.76      1928\n",
      "weighted avg       0.76      0.76      0.76      1928\n",
      "\n"
     ]
    }
   ],
   "source": [
    "# use scikit-learn to normalize, vectorize/extract features and train a classifier\n",
    "from sklearn.feature_extraction.text import CountVectorizer\n",
    "from sklearn.feature_extraction.text import TfidfTransformer\n",
    "from sklearn.pipeline import Pipeline\n",
    "from sklearn.naive_bayes import MultinomialNB\n",
    "from sklearn.linear_model import SGDClassifier\n",
    "\n",
    "pipe = Pipeline([\n",
    "    ('vect', CountVectorizer()),\n",
    "    ('tfidf', TfidfTransformer()),\n",
    "    ('clf', MultinomialNB()),\n",
    "])\n",
    "\n",
    "pipe.fit(X_train, y_train)\n",
    "y_pred = pipe.predict(X_test)\n",
    "print(classification_report(y_test, y_pred))"
   ]
  },
  {
   "cell_type": "code",
   "execution_count": null,
   "metadata": {},
   "outputs": [],
   "source": []
  }
 ],
 "metadata": {
  "kernelspec": {
   "display_name": "Python 3",
   "language": "python",
   "name": "python3"
  },
  "language_info": {
   "codemirror_mode": {
    "name": "ipython",
    "version": 3
   },
   "file_extension": ".py",
   "mimetype": "text/x-python",
   "name": "python",
   "nbconvert_exporter": "python",
   "pygments_lexer": "ipython3",
   "version": "3.11.0"
  },
  "orig_nbformat": 4,
  "vscode": {
   "interpreter": {
    "hash": "29f1e52c0d8d5e5ede6aaca4be8238d35b46afd62a3b8286547e2768de775769"
   }
  }
 },
 "nbformat": 4,
 "nbformat_minor": 2
}
